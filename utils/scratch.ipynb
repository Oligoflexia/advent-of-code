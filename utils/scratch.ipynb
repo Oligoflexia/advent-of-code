{
 "cells": [
  {
   "cell_type": "code",
   "execution_count": 17,
   "metadata": {},
   "outputs": [],
   "source": [
    "import os\n",
    "import re\n",
    "from get_input import get_input\n",
    "\n",
    "os.chdir('/home/soup/Desktop/Projects/advent-of-code')"
   ]
  },
  {
   "cell_type": "code",
   "execution_count": 15,
   "metadata": {},
   "outputs": [
    {
     "name": "stdout",
     "output_type": "stream",
     "text": [
      "Found a datafile!\n"
     ]
    }
   ],
   "source": [
    "input_str = get_input(2015, 12)"
   ]
  },
  {
   "cell_type": "code",
   "execution_count": 18,
   "metadata": {},
   "outputs": [
    {
     "data": {
      "text/plain": [
       "'{{{{}{{[red{}[]]}{}[[]{red[redred][red]}red]}{{red{}{[red]}}[]}{[{}]{red[][{}[]]}}}[[{{}}[[[red]{}{red}{red}]]][[[]{[]{}{}{}}red][{[redredred][]}[[]]red{[red]}]]]}{[{[]{{}}}[[[{}{}{}]{{}redred}]{[[]]{}[[red]][[][red]]{[]{}[]}red{}}{{}{}{}}][[red][[[]]]{}[red]]{[]}][[[]{redred[[][]]}{}[{red}[{redred}[redred]]]{}][[red]]{[[red{red}]{{}}[][[]][redred[]]]}][{[{}][[[redred]]]{redred}[[[red]]]{}red{[]}}]{[{red{red{}}{{}[]red}}[]]{[{}][redred{red}[{red}][[]]]{}{[][red]{}{red}}}{{{red}[][][]}[{redredred{red}}[[redred][]{}]]{{[][red]}{}{{}[redred]}{}[red]}red{}}[[red{[]}]][[]][[[red{red}]{redred}][{red[]}{}]{}[[{red}red]]][{red}]}[[{}{[[red][redred][red]]}]{{[[red]]}}[[[]{}][]{{red}[][red[][redred]]}]]}{[{{[[red]red]}{{{red}}}[[[]{}]]}[{}{[{red}]}red[[[]red]redred[[][]{red}]][{red}][red[[]][{}]]][{red{[][red]}{{}red{}}}][red{[[][]]{[]red{red}}{}}[{}{red{}[redredredred][red]}][[][{}]]{}{{[]}}]{{{}{redred}{red[]red{}{}}[]}{}}]}[[][{[{redred}{[redred]{red}}]}[][{{}[]red}{red{[][red]}}[[red{red}][[red]{}[]{}][]]]{{}[{red}]}]{{{{{}}[redredred]{}}[{{red}red}{red}][red]}}[[[][[red][{}{}]]{[[][]]}{[[]]{[red]}{}[red]}][red[red{{}red{red}}]{[[]][red[]]}][[[{}[]red{}]{[red]}{{}red}{}[{}]red[{}{}]]red{{red}}red{}[[[red]red{}red]{{}red[]{}redred}]]red]{{[[]{{red}}]{[red{}red]{[redred]}[[]]{{}}}}{{}[]}[{{{redred}[]red}{[][red]}}]}{{[[]][]red{[]}}}][[[{}]{red}][]{[{[][{}]}]{red{red{{}{}}}{[red]}}[[[]][[red]]{red[{}]}]{[{}red]{[]}red{}}[[red{}][red{}{{}red{}}{}][red]{[[redred]][{}]}][red{{}}]}][[red{{{}}{{red}[red]}{{}{[red]}[]}}][[]{}[{{}}]]]{[]}{{[{redredredred}red[][]{[{}{red}]{}}][[[]{red}]red{{}}][[{red}]]}{{{[]{red{}}}}{{}{[red{}redred[]][red]{[]}}}red{{}}[[{}[][{}][[red][red]][red{}{}{red}]]{{}}]}[[][{{{red}}[{}{}[]]{}}{redred}[{{red}{}}{{red}}{[redred][]}[{}]]]]{}{[{{}[]red}[[]{}[[]{red}{red}]{}{red}][[]][[][{red}][[]]]{[{}]{}red{}}[[red]{red}[]red[[redred]red]]][{{red}}[][[{}]{}{}{red}]]{[[]red{{}}[]]{{}[[]red[]red][{redred}redred]}{[[]][]}{red{red}{{redred}{}}[]}red}red}{{[[red{}red]][[red{red}]redred]{{{}}{}}}{[red[red]]{[]}[]}}{{{[{red}{}]}[]{red}}[[{[]}]{{}{}{[]}}[{red[red]}{}{red[]}]]{[{[]}]}}}}'"
      ]
     },
     "execution_count": 18,
     "metadata": {},
     "output_type": "execute_result"
    }
   ],
   "source": [
    "pattern = r'[{}\\[\\]]|\\bred\\b'\n",
    "\n",
    "matches = re.findall(pattern, input_str)\n",
    "output_str = ''.join(matches)\n",
    "\n",
    "output_str"
   ]
  }
 ],
 "metadata": {
  "kernelspec": {
   "display_name": ".venv",
   "language": "python",
   "name": "python3"
  },
  "language_info": {
   "codemirror_mode": {
    "name": "ipython",
    "version": 3
   },
   "file_extension": ".py",
   "mimetype": "text/x-python",
   "name": "python",
   "nbconvert_exporter": "python",
   "pygments_lexer": "ipython3",
   "version": "3.10.12"
  }
 },
 "nbformat": 4,
 "nbformat_minor": 2
}
