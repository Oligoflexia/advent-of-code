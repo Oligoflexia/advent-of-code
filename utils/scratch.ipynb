{
 "cells": [
  {
   "cell_type": "code",
   "execution_count": null,
   "metadata": {},
   "outputs": [],
   "source": [
    "import os\n",
    "import re\n",
    "from get_input import get_input\n",
    "\n",
    "os.chdir('/Users/soup/Documents/projects/advent-of-code')"
   ]
  },
  {
   "cell_type": "code",
   "execution_count": null,
   "metadata": {},
   "outputs": [],
   "source": [
    "input = get_input(2015, 19)\n",
    "\n",
    "query_str  = \"\"\n",
    "instructions = {}\n",
    "replacements = set()\n",
    "\n",
    "def init_data(str_input):\n",
    "    for line in str_input.splitlines()[:-2]:\n",
    "        original, _, replaced = line.split(\" \")\n",
    "        \n",
    "        if original not in instructions:\n",
    "            instructions[original] = []\n",
    "            instructions[original].append(replaced)\n",
    "        else: instructions[original].append(replaced)\n",
    "        \n",
    "        replacements.add(replaced)\n",
    "\n",
    "    return str_input.splitlines()[-1:][0]\n",
    "    \n",
    "query_str = init_data(input)"
   ]
  },
  {
   "cell_type": "code",
   "execution_count": null,
   "metadata": {},
   "outputs": [],
   "source": [
    "combined_pattern = '|'.join(map(re.escape, instructions.keys()))\n",
    "\n",
    "terminals = set()\n",
    "\n",
    "for word in replacements:\n",
    "    terminals.add(re.sub(combined_pattern, \"\", word))\n",
    "\n",
    "print(terminals)\n",
    "\n",
    "pattern = 'Rn(.*?)Ar'\n",
    "\n",
    "matches = re.findall(pattern, query_str, re.DOTALL)"
   ]
  },
  {
   "cell_type": "code",
   "execution_count": null,
   "metadata": {},
   "outputs": [],
   "source": [
    "print(matches)\n",
    "print(query_str)"
   ]
  },
  {
   "cell_type": "code",
   "execution_count": null,
   "metadata": {},
   "outputs": [],
   "source": [
    "def replacer(instructions:tuple, string=query_str) -> list:\n",
    "    created_molecules = []\n",
    "    \n",
    "    inds = [match.start() for match in re.finditer(instructions[0], string)]\n",
    "    \n",
    "    for element in inds:\n",
    "        temp_s = string[:element] + instructions[1] + string[element+len(instructions[0]):]\n",
    "        created_molecules.append(temp_s)\n",
    "    \n",
    "    return created_molecules"
   ]
  },
  {
   "cell_type": "code",
   "execution_count": null,
   "metadata": {},
   "outputs": [],
   "source": [
    "def simplify(start):\n",
    "    step = set([start])\n",
    "    while True:\n",
    "        inner = set()\n",
    "        for item in step:\n",
    "            for key, values in instructions.items():\n",
    "                for element in values:\n",
    "                    mols = replacer((element, key), item)\n",
    "                    for mol in mols:\n",
    "                        inner.add(mol)\n",
    "        store = set()\n",
    "        if len(inner) == 0:\n",
    "            store.add(item)\n",
    "        for key in instructions:\n",
    "            if \"Rn\"+key+\"Ar\" in inner or \"Rn\"+key+\"Ar\" in step or 'e' in step:\n",
    "                store.add(\"Rn\"+key+\"Ar\")\n",
    "        if len(store) >= 1:\n",
    "            return list(store)[0]\n",
    "        \n",
    "        if step == inner:\n",
    "            print(\"Inf loop\")\n",
    "            break\n",
    "        \n",
    "        step = inner\n",
    "    \n",
    "    return -1\n",
    "                    "
   ]
  },
  {
   "cell_type": "code",
   "execution_count": null,
   "metadata": {},
   "outputs": [],
   "source": [
    "repl = []\n",
    "for word in matches:\n",
    "    repl.append(simplify(word))\n",
    "\n",
    "no_illegals = re.sub('Rn.*?Ar', \"Rn\" + repl.pop() + \"Ar\", query_str)\n",
    "print(no_illegals)\n",
    "\n",
    "modified_string = no_illegals\n",
    "\n",
    "# Continue until there are no more 'Ar' patterns that can be replaced\n",
    "while True:\n",
    "    inds = [match.start() for match in re.finditer('Ar', modified_string)]\n",
    "    made_replacement = False\n",
    "\n",
    "    for ind in inds:\n",
    "        # Start from the position just before 'Ar' and move backwards to find a valid replacement\n",
    "        for i in range(ind, 0, -1):\n",
    "            snippet = modified_string[ind-i:ind+2]\n",
    "            if snippet in replacements:\n",
    "                # Find the key in 'instructions' corresponding to the snippet\n",
    "                replacement_key = next((key for key, values in instructions.items() if snippet in values), None)\n",
    "                if replacement_key:\n",
    "                    # Perform the replacement and update the modified string\n",
    "                    modified_string = re.sub(re.escape(snippet), replacement_key, modified_string, count=1)\n",
    "                    made_replacement = True\n",
    "                    break  # Break after the first replacement\n",
    "\n",
    "    # If no replacement was made in this iteration, break the loop\n",
    "    if not made_replacement:\n",
    "        break\n",
    "\n",
    "# 'modified_string' now contains all the changes from the loop iterations\n",
    "no_illegals = modified_string\n",
    "\n",
    "print(no_illegals)"
   ]
  },
  {
   "cell_type": "code",
   "execution_count": null,
   "metadata": {},
   "outputs": [],
   "source": []
  }
 ],
 "metadata": {
  "kernelspec": {
   "display_name": ".venv",
   "language": "python",
   "name": "python3"
  },
  "language_info": {
   "codemirror_mode": {
    "name": "ipython",
    "version": 3
   },
   "file_extension": ".py",
   "mimetype": "text/x-python",
   "name": "python",
   "nbconvert_exporter": "python",
   "pygments_lexer": "ipython3",
   "version": "3.11.4"
  }
 },
 "nbformat": 4,
 "nbformat_minor": 2
}
