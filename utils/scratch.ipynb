{
 "cells": [
  {
   "cell_type": "code",
   "execution_count": 1,
   "metadata": {},
   "outputs": [],
   "source": [
    "\n",
    "import os\n",
    "from queue import SimpleQueue\n",
    "from get_input import get_input\n",
    "\n",
    "os.chdir('/Users/soup/Documents/projects/advent-of-code')"
   ]
  },
  {
   "cell_type": "code",
   "execution_count": 6,
   "metadata": {},
   "outputs": [
    {
     "name": "stdout",
     "output_type": "stream",
     "text": [
      "Found a datafile!\n"
     ]
    }
   ],
   "source": [
    "input = get_input(2015, 22)"
   ]
  },
  {
   "cell_type": "code",
   "execution_count": 2,
   "metadata": {},
   "outputs": [],
   "source": [
    "test_dict = {'M': {'p_hp': 41, 'p_mana': 447, 'b_hp': 54, 'spent_mana': 53, 'shield': [6, 0], 'regen': [6,9], 'poisoned': [5,2], 'next_options': [\"P\", 'Q', 'R']}}"
   ]
  },
  {
   "cell_type": "code",
   "execution_count": 12,
   "metadata": {},
   "outputs": [
    {
     "name": "stdout",
     "output_type": "stream",
     "text": [
      "{'p_hp': 41, 'p_mana': 447, 'b_hp': 54, 'spent_mana': 53, 'shield': [6, 0], 'regen': [6, 9], 'poisoned': [5, 2], 'next_options': ['P', 'Q', 'R']}\n"
     ]
    }
   ],
   "source": [
    "print([i for i in test_dict.values()][0])"
   ]
  }
 ],
 "metadata": {
  "kernelspec": {
   "display_name": ".venv",
   "language": "python",
   "name": "python3"
  },
  "language_info": {
   "codemirror_mode": {
    "name": "ipython",
    "version": 3
   },
   "file_extension": ".py",
   "mimetype": "text/x-python",
   "name": "python",
   "nbconvert_exporter": "python",
   "pygments_lexer": "ipython3",
   "version": "3.11.4"
  }
 },
 "nbformat": 4,
 "nbformat_minor": 2
}
