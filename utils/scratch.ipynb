{
 "cells": [
  {
   "cell_type": "code",
   "execution_count": 1,
   "metadata": {},
   "outputs": [],
   "source": [
    "import os\n",
    "from utils import helpers\n",
    "\n",
    "os.chdir('..')"
   ]
  },
  {
   "cell_type": "code",
   "execution_count": 2,
   "metadata": {},
   "outputs": [],
   "source": [
    "import re\n",
    "from heapq import nlargest"
   ]
  },
  {
   "cell_type": "code",
   "execution_count": 3,
   "metadata": {},
   "outputs": [
    {
     "name": "stdout",
     "output_type": "stream",
     "text": [
      "Found a datafile!\n"
     ]
    }
   ],
   "source": [
    "input = helpers.get_input(2016, 4)"
   ]
  },
  {
   "cell_type": "code",
   "execution_count": 4,
   "metadata": {},
   "outputs": [
    {
     "name": "stdout",
     "output_type": "stream",
     "text": [
      "a 0\n",
      "b 1\n",
      "c 2\n",
      "d 3\n",
      "e 4\n",
      "f 5\n",
      "g 6\n",
      "h 7\n",
      "i 8\n",
      "j 9\n",
      "k 10\n",
      "l 11\n",
      "m 12\n",
      "n 13\n",
      "o 14\n",
      "p 15\n",
      "q 16\n",
      "r 17\n",
      "s 18\n",
      "t 19\n",
      "u 20\n",
      "v 21\n",
      "w 22\n",
      "x 23\n",
      "y 24\n",
      "z 25\n",
      "465\n",
      "120\n"
     ]
    }
   ],
   "source": [
    "for i in range(123-97):\n",
    "    print(chr(i+97), i)\n",
    "\n",
    "print(ord('z') + 343)\n",
    "\n",
    "print(465%26 + 97)"
   ]
  },
  {
   "cell_type": "code",
   "execution_count": 5,
   "metadata": {},
   "outputs": [],
   "source": [
    "def decipher(string:str, num:int) -> str:\n",
    "    decoded = []\n",
    "    for char in string:\n",
    "        if char == \"-\":\n",
    "            decoded.append(\" \")\n",
    "        else:\n",
    "            shifted = ord(char) - 97 + num\n",
    "            decoded.append(chr((shifted%26) + 97))\n",
    "    return \"\".join(decoded)"
   ]
  },
  {
   "cell_type": "code",
   "execution_count": 6,
   "metadata": {},
   "outputs": [
    {
     "name": "stdout",
     "output_type": "stream",
     "text": [
      "international biohazardous egg operations\n"
     ]
    }
   ],
   "source": [
    "print(decipher('wbhsfbohwcboz-pwcvonofrcig-suu-cdsfohwcbg', 896))"
   ]
  }
 ],
 "metadata": {
  "kernelspec": {
   "display_name": ".venv",
   "language": "python",
   "name": "python3"
  },
  "language_info": {
   "codemirror_mode": {
    "name": "ipython",
    "version": 3
   },
   "file_extension": ".py",
   "mimetype": "text/x-python",
   "name": "python",
   "nbconvert_exporter": "python",
   "pygments_lexer": "ipython3",
   "version": "3.11.4"
  }
 },
 "nbformat": 4,
 "nbformat_minor": 2
}
