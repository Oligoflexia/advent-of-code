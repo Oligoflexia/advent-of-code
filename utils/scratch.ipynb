{
 "cells": [
  {
   "cell_type": "code",
   "execution_count": 1,
   "metadata": {},
   "outputs": [],
   "source": [
    "import os\n",
    "from utils import helpers\n",
    "\n",
    "os.chdir('..')"
   ]
  },
  {
   "cell_type": "code",
   "execution_count": 2,
   "metadata": {},
   "outputs": [],
   "source": [
    "import re\n",
    "from heapq import nlargest"
   ]
  },
  {
   "cell_type": "code",
   "execution_count": 3,
   "metadata": {},
   "outputs": [
    {
     "name": "stdout",
     "output_type": "stream",
     "text": [
      "Found a datafile!\n"
     ]
    }
   ],
   "source": [
    "input = helpers.get_input(2016, 4)"
   ]
  },
  {
   "cell_type": "code",
   "execution_count": 22,
   "metadata": {},
   "outputs": [
    {
     "name": "stdout",
     "output_type": "stream",
     "text": [
      "a 0\n",
      "b 1\n",
      "c 2\n",
      "d 3\n",
      "e 4\n",
      "f 5\n",
      "g 6\n",
      "h 7\n",
      "i 8\n",
      "j 9\n",
      "k 10\n",
      "l 11\n",
      "m 12\n",
      "n 13\n",
      "o 14\n",
      "p 15\n",
      "q 16\n",
      "r 17\n",
      "s 18\n",
      "t 19\n",
      "u 20\n",
      "v 21\n",
      "w 22\n",
      "x 23\n",
      "y 24\n",
      "z 25\n",
      "368\n",
      "4\n"
     ]
    }
   ],
   "source": [
    "for i in range(123-97):\n",
    "    print(chr(i+97), i)\n",
    "\n",
    "print(ord('z') + 343 - 97)\n",
    "\n",
    "print(368%26)"
   ]
  },
  {
   "cell_type": "code",
   "execution_count": 23,
   "metadata": {},
   "outputs": [],
   "source": [
    "def decipher(string:str, num:int) -> str:\n",
    "    decoded = []\n",
    "    for char in string:\n",
    "        shifted = ord(char) - 97 + num\n",
    "        decoded.append(chr(shifted%26))\n",
    "    return \"\".join(decoded) "
   ]
  },
  {
   "cell_type": "code",
   "execution_count": 24,
   "metadata": {},
   "outputs": [
    {
     "ename": "TypeError",
     "evalue": "sequence item 0: expected str instance, int found",
     "output_type": "error",
     "traceback": [
      "\u001b[0;31m---------------------------------------------------------------------------\u001b[0m",
      "\u001b[0;31mTypeError\u001b[0m                                 Traceback (most recent call last)",
      "\u001b[1;32m/Users/soup/Documents/projects/advent-of-code/utils/scratch.ipynb Cell 6\u001b[0m line \u001b[0;36m1\n\u001b[0;32m----> <a href='vscode-notebook-cell:/Users/soup/Documents/projects/advent-of-code/utils/scratch.ipynb#X10sZmlsZQ%3D%3D?line=0'>1</a>\u001b[0m \u001b[39mprint\u001b[39m(decipher(\u001b[39m\"\u001b[39;49m\u001b[39mqzmtzixmtkozyivhz\u001b[39;49m\u001b[39m\"\u001b[39;49m, \u001b[39m343\u001b[39;49m))\n",
      "\u001b[1;32m/Users/soup/Documents/projects/advent-of-code/utils/scratch.ipynb Cell 6\u001b[0m line \u001b[0;36m6\n\u001b[1;32m      <a href='vscode-notebook-cell:/Users/soup/Documents/projects/advent-of-code/utils/scratch.ipynb#X10sZmlsZQ%3D%3D?line=3'>4</a>\u001b[0m     shifted \u001b[39m=\u001b[39m \u001b[39mord\u001b[39m(char) \u001b[39m-\u001b[39m \u001b[39m97\u001b[39m \u001b[39m+\u001b[39m num\n\u001b[1;32m      <a href='vscode-notebook-cell:/Users/soup/Documents/projects/advent-of-code/utils/scratch.ipynb#X10sZmlsZQ%3D%3D?line=4'>5</a>\u001b[0m     decoded\u001b[39m.\u001b[39mappend(shifted)\n\u001b[0;32m----> <a href='vscode-notebook-cell:/Users/soup/Documents/projects/advent-of-code/utils/scratch.ipynb#X10sZmlsZQ%3D%3D?line=5'>6</a>\u001b[0m \u001b[39mreturn\u001b[39;00m \u001b[39m\"\u001b[39;49m\u001b[39m\"\u001b[39;49m\u001b[39m.\u001b[39;49mjoin(decoded)\n",
      "\u001b[0;31mTypeError\u001b[0m: sequence item 0: expected str instance, int found"
     ]
    }
   ],
   "source": [
    "print(decipher(\"qzmtzixmtkozyivhz\", 343))"
   ]
  }
 ],
 "metadata": {
  "kernelspec": {
   "display_name": ".venv",
   "language": "python",
   "name": "python3"
  },
  "language_info": {
   "codemirror_mode": {
    "name": "ipython",
    "version": 3
   },
   "file_extension": ".py",
   "mimetype": "text/x-python",
   "name": "python",
   "nbconvert_exporter": "python",
   "pygments_lexer": "ipython3",
   "version": "3.11.4"
  }
 },
 "nbformat": 4,
 "nbformat_minor": 2
}
