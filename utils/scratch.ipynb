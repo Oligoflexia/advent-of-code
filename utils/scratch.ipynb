{
 "cells": [
  {
   "cell_type": "code",
   "execution_count": 6,
   "metadata": {},
   "outputs": [
    {
     "name": "stdout",
     "output_type": "stream",
     "text": [
      "97\n",
      "122\n"
     ]
    }
   ],
   "source": [
    "print(ord('a'))\n",
    "print(ord('z'))"
   ]
  },
  {
   "cell_type": "code",
   "execution_count": 7,
   "metadata": {},
   "outputs": [],
   "source": [
    "def increment(s:str) -> str:\n",
    "    ascii = [ord(x) for x in s]\n",
    "    \n",
    "    i = len(ascii) - 1\n",
    "    \n",
    "    while i > 0:\n",
    "        if ascii[i] == 122:\n",
    "            ascii[i] = 97\n",
    "            i -= 1\n",
    "        else:\n",
    "            ascii[i] += 1\n",
    "            break\n",
    "    return ''.join(chr(n) for n in ascii)\n",
    "            \n",
    "        "
   ]
  },
  {
   "cell_type": "code",
   "execution_count": 8,
   "metadata": {},
   "outputs": [],
   "source": [
    "trips = set()\n",
    "illegal = {'i', 'o', 'l'}\n",
    "\n",
    "for i in range(97, 122):\n",
    "    trips.add(f\"{chr(i)}{chr(i+1)}{chr(i+2)}\")\n",
    "\n",
    "    \n",
    "def isStraight(s:str) -> bool:\n",
    "    straight = False\n",
    "    for ind, c in enumerate(s[0:-2]):\n",
    "        if f\"{c.lower()}{s[ind+1].lower()}{s[ind+2].lower()}\" in trips:\n",
    "            straight = True\n",
    "    return straight\n",
    "\n",
    "def isNotIllegal(s:str) -> bool:\n",
    "    not_illegal = True\n",
    "    for c in s:\n",
    "        if c in illegal:\n",
    "            not_illegal = False\n",
    "    return not_illegal"
   ]
  },
  {
   "cell_type": "code",
   "execution_count": 9,
   "metadata": {},
   "outputs": [
    {
     "name": "stdout",
     "output_type": "stream",
     "text": [
      "True\n",
      "True\n",
      "True\n",
      "True\n",
      "False\n",
      "False\n",
      "True\n",
      "True\n"
     ]
    }
   ],
   "source": [
    "print(isStraight('ABC'))\n",
    "print(isStraight('Abc'))\n",
    "print(isStraight('abC'))\n",
    "print(isStraight('abc'))\n",
    "print(isStraight('Acb'))\n",
    "print(isStraight('acb'))\n",
    "print(isStraight('aabc'))\n",
    "print(isStraight('adkghijdg'))"
   ]
  },
  {
   "cell_type": "code",
   "execution_count": 10,
   "metadata": {},
   "outputs": [
    {
     "name": "stdout",
     "output_type": "stream",
     "text": [
      "False\n",
      "True\n",
      "False\n"
     ]
    }
   ],
   "source": [
    "print(isNotIllegal('aaksdjlahdfblajshbfl'))\n",
    "print(isNotIllegal('asnxvxgdfdf'))\n",
    "print(isNotIllegal('aaaaaaaaaaaaaaaaaaaaaaaaaaaaaaaaaaaaaal'))\n",
    "\n",
    "\n",
    "\n"
   ]
  },
  {
   "cell_type": "code",
   "execution_count": 11,
   "metadata": {},
   "outputs": [],
   "source": [
    "def hasDoubles(s:str) -> bool:\n",
    "    pairs = []\n",
    "    i = 0\n",
    "    while i < len(s) - 1:\n",
    "        if s[i] == s[i + 1]:\n",
    "            pairs.append(s[i:i + 2])\n",
    "            i += 2\n",
    "        else:\n",
    "            i += 1\n",
    "    return len(pairs) >= 2"
   ]
  },
  {
   "cell_type": "code",
   "execution_count": 12,
   "metadata": {},
   "outputs": [
    {
     "name": "stdout",
     "output_type": "stream",
     "text": [
      "False\n",
      "False\n",
      "True\n"
     ]
    }
   ],
   "source": [
    "print(hasDoubles(\"abbcegjk\"))\n",
    "print(hasDoubles(\"abbcegjksk\"))\n",
    "print(hasDoubles(\"abbcegjkk\"))"
   ]
  },
  {
   "cell_type": "code",
   "execution_count": 13,
   "metadata": {},
   "outputs": [
    {
     "name": "stdout",
     "output_type": "stream",
     "text": [
      "aaaabzzz\n"
     ]
    }
   ],
   "source": [
    "print(increment(\"aaaaazzz\"))"
   ]
  }
 ],
 "metadata": {
  "kernelspec": {
   "display_name": ".venv",
   "language": "python",
   "name": "python3"
  },
  "language_info": {
   "codemirror_mode": {
    "name": "ipython",
    "version": 3
   },
   "file_extension": ".py",
   "mimetype": "text/x-python",
   "name": "python",
   "nbconvert_exporter": "python",
   "pygments_lexer": "ipython3",
   "version": "3.11.4"
  }
 },
 "nbformat": 4,
 "nbformat_minor": 2
}
